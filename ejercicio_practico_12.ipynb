{
  "nbformat": 4,
  "nbformat_minor": 0,
  "metadata": {
    "colab": {
      "provenance": [],
      "authorship_tag": "ABX9TyPvq+BLbdX3JkZ3r5ZJgf1Q",
      "include_colab_link": true
    },
    "kernelspec": {
      "name": "python3",
      "display_name": "Python 3"
    },
    "language_info": {
      "name": "python"
    }
  },
  "cells": [
    {
      "cell_type": "markdown",
      "metadata": {
        "id": "view-in-github",
        "colab_type": "text"
      },
      "source": [
        "<a href=\"https://colab.research.google.com/github/Jhonnety/basic_python_projects/blob/main/ejercicio_practico_12.ipynb\" target=\"_parent\"><img src=\"https://colab.research.google.com/assets/colab-badge.svg\" alt=\"Open In Colab\"/></a>"
      ]
    },
    {
      "cell_type": "markdown",
      "source": [
        "# Ejercicio Practico 12\n",
        "\n",
        "Universidad Catolica Luis Amigo\n",
        "Curso Electivo de Programacion en Python\n",
        "Semestre 2023-02\n",
        "Enunciado\n",
        "Desarrollar un programa en Python, que, dada la siguiente lista:\n",
        "numeros = [ 1, 2, 3, 4, 5]\n",
        "\n",
        "Elimine el primer y ultimo elemento de la lista, tomando en cuenta que se\n",
        "desconocen los elementos que componen a nuestra lista.\n",
        "Posteriormente, el programa debera mostrar por pantalla dos listas, la primea\n",
        "lista, sera la que contiene los elementos que no fueron eliminados, y la segunda\n",
        "lista, debera contener los elementos que fueron eliminados."
      ],
      "metadata": {
        "id": "dmUb3Kfrfdkd"
      }
    },
    {
      "cell_type": "code",
      "source": [
        "numeros = [ 1, 2, 3, 4, 5]\n",
        "new_numeros = [numeros[0],numeros[-1]]\n",
        "numeros.pop(0)\n",
        "numeros.pop(-1)\n",
        "print(f\"Elementos no eliminados: {numeros}\")\n",
        "print(f\"Elementos eliminados: {new_numeros}\")"
      ],
      "metadata": {
        "colab": {
          "base_uri": "https://localhost:8080/"
        },
        "id": "Uc1_adatfhH1",
        "outputId": "e55d3510-291e-44d6-c3f9-2553abe4b06c"
      },
      "execution_count": null,
      "outputs": [
        {
          "output_type": "stream",
          "name": "stdout",
          "text": [
            "Elementos no eliminados: [2, 3, 4]\n",
            "Elementos eliminados: [1, 5]\n"
          ]
        }
      ]
    }
  ]
}