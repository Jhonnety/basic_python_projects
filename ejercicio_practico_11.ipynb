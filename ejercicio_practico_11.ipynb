{
  "nbformat": 4,
  "nbformat_minor": 0,
  "metadata": {
    "colab": {
      "provenance": [],
      "authorship_tag": "ABX9TyN4AsJGPLfdVP9rA8YCNgpG",
      "include_colab_link": true
    },
    "kernelspec": {
      "name": "python3",
      "display_name": "Python 3"
    },
    "language_info": {
      "name": "python"
    }
  },
  "cells": [
    {
      "cell_type": "markdown",
      "metadata": {
        "id": "view-in-github",
        "colab_type": "text"
      },
      "source": [
        "<a href=\"https://colab.research.google.com/github/Jhonnety/basic_python_projects/blob/main/ejercicio_practico_11.ipynb\" target=\"_parent\"><img src=\"https://colab.research.google.com/assets/colab-badge.svg\" alt=\"Open In Colab\"/></a>"
      ]
    },
    {
      "cell_type": "markdown",
      "source": [
        "# Ejercicio Practico 11\n",
        "Universidad Catolica Luis Amigo\n",
        "Curso Electivo de Programacion en Python\n",
        "Semestre 2023-02\n",
        "Enunciado\n",
        "Desarrollar un programa en Python, que, dada la siguiente lista:\n",
        "Lista = [ “A”, “B”, “b”, “c”, “E”, “E”, “f”]\n",
        "\n",
        "Le solicite al usuario introducir desde el teclado el elemento que desea eliminar.\n",
        "De esta manera, el programa debera eliminar dicho elemento, tomando en\n",
        "cuenta, que el elemento puede estar contenido en la lista mas de una vez.\n",
        "Ademas, el programa debera eliminar el elemento, sin importar que el usuario\n",
        "introduzca su eleccion en mayusculas o minusculas.\n"
      ],
      "metadata": {
        "id": "C-o0yAOSd2tV"
      }
    },
    {
      "cell_type": "code",
      "source": [
        "lista = [ \"A\", \"B\", \"b\", \"c\", \"E\", \"E\", \"f\"]\n",
        "\n",
        "letra = input(\"Ingrese el caracter que desea eliminar: \")\n",
        "x = 0\n",
        "while x <  len(lista):\n",
        "  if(lista[x].lower() == letra.lower()):\n",
        "    lista.pop(x)\n",
        "    x = -1\n",
        "  x += 1\n",
        "print(f\"La nueva lista es: {lista}\")"
      ],
      "metadata": {
        "colab": {
          "base_uri": "https://localhost:8080/"
        },
        "id": "eWAnFR2Zd66D",
        "outputId": "89a699f6-b724-4eae-936a-ddd5edf25c27"
      },
      "execution_count": 30,
      "outputs": [
        {
          "output_type": "stream",
          "name": "stdout",
          "text": [
            "Ingrese el caracter que desea eliminar: e\n",
            "La nueva lista es: ['A', 'B', 'b', 'c', 'f']\n"
          ]
        }
      ]
    }
  ]
}