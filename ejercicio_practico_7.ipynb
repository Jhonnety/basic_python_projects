{
  "nbformat": 4,
  "nbformat_minor": 0,
  "metadata": {
    "colab": {
      "provenance": [],
      "authorship_tag": "ABX9TyOxJqToax5vlswM85HVvFPG",
      "include_colab_link": true
    },
    "kernelspec": {
      "name": "python3",
      "display_name": "Python 3"
    },
    "language_info": {
      "name": "python"
    }
  },
  "cells": [
    {
      "cell_type": "markdown",
      "metadata": {
        "id": "view-in-github",
        "colab_type": "text"
      },
      "source": [
        "<a href=\"https://colab.research.google.com/github/Jhonnety/basic_python_projects/blob/main/ejercicio_practico_7.ipynb\" target=\"_parent\"><img src=\"https://colab.research.google.com/assets/colab-badge.svg\" alt=\"Open In Colab\"/></a>"
      ]
    },
    {
      "cell_type": "markdown",
      "source": [
        "# Ejercicio Practico 7\n",
        "Universidad Catolica Luis Amigo\n",
        "Curso Electivo de Programacion en Python\n",
        "Semestre 2023-02\n",
        "Enunciado\n",
        "Desarrollar un programa que invierta una cadena de caracteres, y a su vez,\n",
        "esta cadena de caracteres debera ser ingresada por el usuario desde el teclado.\n",
        "Requerimientos indispensables:\n",
        "- No se permite modificar la cadena de caracteres original.\n",
        "- Utilizar el ciclo o bucle for.\n"
      ],
      "metadata": {
        "id": "3jRdbq7UOpM_"
      }
    },
    {
      "cell_type": "code",
      "source": [
        "cadena = input(\"Ingrese la cadena de texto: \")\n",
        "length = len(cadena)\n",
        "nueva_cadena = \"\"\n",
        "for x in range(length -1, -1, -1):\n",
        "  nueva_cadena += cadena[x]\n",
        "print(f\"Cadena invertida: {nueva_cadena}\")"
      ],
      "metadata": {
        "id": "TAzyXQZCOyht",
        "colab": {
          "base_uri": "https://localhost:8080/"
        },
        "outputId": "4cea582e-4c6f-43c1-f965-1025bd3f317a"
      },
      "execution_count": 7,
      "outputs": [
        {
          "output_type": "stream",
          "name": "stdout",
          "text": [
            "Ingrese la cadena de texto: Hola profe\n",
            "Cadena invertida: eforp aloH\n"
          ]
        }
      ]
    },
    {
      "cell_type": "code",
      "source": [],
      "metadata": {
        "id": "_ovjooPqyGTA"
      },
      "execution_count": null,
      "outputs": []
    }
  ]
}