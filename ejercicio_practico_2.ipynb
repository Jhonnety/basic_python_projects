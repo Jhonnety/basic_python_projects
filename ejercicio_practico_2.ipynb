{
  "nbformat": 4,
  "nbformat_minor": 0,
  "metadata": {
    "colab": {
      "provenance": [],
      "authorship_tag": "ABX9TyMoVplPjYQnRKGnJw14fgTD",
      "include_colab_link": true
    },
    "kernelspec": {
      "name": "python3",
      "display_name": "Python 3"
    },
    "language_info": {
      "name": "python"
    }
  },
  "cells": [
    {
      "cell_type": "markdown",
      "metadata": {
        "id": "view-in-github",
        "colab_type": "text"
      },
      "source": [
        "<a href=\"https://colab.research.google.com/github/Jhonnety/basic_python_projects/blob/main/ejercicio_practico_2.ipynb\" target=\"_parent\"><img src=\"https://colab.research.google.com/assets/colab-badge.svg\" alt=\"Open In Colab\"/></a>"
      ]
    },
    {
      "cell_type": "code",
      "execution_count": 2,
      "metadata": {
        "colab": {
          "base_uri": "https://localhost:8080/"
        },
        "id": "8MvWSKEj1aEa",
        "outputId": "66dd3e51-ed43-4b16-a60c-5be5dec06061"
      },
      "outputs": [
        {
          "output_type": "stream",
          "name": "stdout",
          "text": [
            "Por favor ingrese un número: 4\n",
            "El número 4 es par\n"
          ]
        }
      ],
      "source": [
        "try:\n",
        "    num = int(input(\"Por favor ingrese un número: \"))\n",
        "\n",
        "    if (num % 2 == 0):\n",
        "        print(f\"El número {num} es par\")\n",
        "    else:\n",
        "        print(f\"El número {num} es impar\")\n",
        "except:\n",
        "    print(\"Se produjo un error, posiblemente ingresaste algo diferente a un número\")"
      ]
    }
  ]
}