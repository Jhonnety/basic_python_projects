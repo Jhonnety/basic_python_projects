{
  "nbformat": 4,
  "nbformat_minor": 0,
  "metadata": {
    "colab": {
      "provenance": [],
      "authorship_tag": "ABX9TyMDTuIA2TyHB4igBFxECu9x",
      "include_colab_link": true
    },
    "kernelspec": {
      "name": "python3",
      "display_name": "Python 3"
    },
    "language_info": {
      "name": "python"
    }
  },
  "cells": [
    {
      "cell_type": "markdown",
      "metadata": {
        "id": "view-in-github",
        "colab_type": "text"
      },
      "source": [
        "<a href=\"https://colab.research.google.com/github/Jhonnety/basic_python_projects/blob/main/ejercicio_practico_5.ipynb\" target=\"_parent\"><img src=\"https://colab.research.google.com/assets/colab-badge.svg\" alt=\"Open In Colab\"/></a>"
      ]
    },
    {
      "cell_type": "markdown",
      "source": [
        "# Ejericio practica 5\n",
        "Ejercicio Practico 5\n",
        "Universidad Catolica Luis Amigo\n",
        "Curso Electivo de Programacion en Python\n",
        "Semestre 2023-02\n",
        "Enunciado\n",
        "Desarrollar un programa que imprima en pantalla la Sucesi´on de Fibonacci\n",
        "desde el numero 0 hasta el numero 1597, de manera horizontal.\n",
        "Ejemplo\n",
        "0 1 1 2 3 5 8 13 21 34 55 89 144 233 377 610 987 1597\n",
        "Requerimientos indispensables:\n",
        "No excederse en la cantidad de lıneas de codigo.\n",
        "Pista\n",
        "La sucesion de Fibonacci se trata de una secuencia infinita de numeros naturales; a partir del 0 y el 1, se van sumando a pares, de manera que cada\n",
        "numero es igual a la suma de sus dos anteriores."
      ],
      "metadata": {
        "id": "kMuct1pqImfJ"
      }
    },
    {
      "cell_type": "code",
      "source": [
        "a = 0\n",
        "b = 1\n",
        "c = 0\n",
        "i = 0\n",
        "lista = \"\"\n",
        "while(c != 1597):\n",
        "  if i == 0:\n",
        "    lista += f\"{a}\"\n",
        "    i += 1\n",
        "  elif i == 1:\n",
        "    lista += f\", {b}\"\n",
        "    i += 1\n",
        "  else:\n",
        "    c = a + b\n",
        "    lista += f\", {c}\"\n",
        "    a = b\n",
        "    b = c\n",
        "print(lista)"
      ],
      "metadata": {
        "colab": {
          "base_uri": "https://localhost:8080/"
        },
        "id": "OUe2yPuqIzXJ",
        "outputId": "1c415771-7dc0-4595-d559-9c4c2e816a80"
      },
      "execution_count": 23,
      "outputs": [
        {
          "output_type": "stream",
          "name": "stdout",
          "text": [
            "0, 1, 1, 2, 3, 5, 8, 13, 21, 34, 55, 89, 144, 233, 377, 610, 987, 1597\n"
          ]
        }
      ]
    },
    {
      "cell_type": "markdown",
      "source": [
        "# Extra\n",
        "La seria Fibonacci de 0 hasta n"
      ],
      "metadata": {
        "id": "no04SJfmI1gB"
      }
    },
    {
      "cell_type": "code",
      "source": [
        "n = int(input(\"Ingrese el valor de n:\"))\n",
        "a = 0\n",
        "b = 1\n",
        "c = 0\n",
        "lista = \"\"\n",
        "for i in range(0, n):\n",
        "  if i == 0:\n",
        "    lista += f\"{a}\"\n",
        "  elif i == 1:\n",
        "    lista += f\", {b}\"\n",
        "  else:\n",
        "    c = a + b\n",
        "    lista += f\", {c}\"\n",
        "    a = b\n",
        "    b = c\n",
        "print(lista)"
      ],
      "metadata": {
        "colab": {
          "base_uri": "https://localhost:8080/"
        },
        "id": "i3qnW3dwHh7T",
        "outputId": "3d69b7d1-6f00-48b4-dd7f-8bd3c32c7513"
      },
      "execution_count": 26,
      "outputs": [
        {
          "output_type": "stream",
          "name": "stdout",
          "text": [
            "Ingrese el valor de n:100\n",
            "0, 1, 1, 2, 3, 5, 8, 13, 21, 34, 55, 89, 144, 233, 377, 610, 987, 1597, 2584, 4181, 6765, 10946, 17711, 28657, 46368, 75025, 121393, 196418, 317811, 514229, 832040, 1346269, 2178309, 3524578, 5702887, 9227465, 14930352, 24157817, 39088169, 63245986, 102334155, 165580141, 267914296, 433494437, 701408733, 1134903170, 1836311903, 2971215073, 4807526976, 7778742049, 12586269025, 20365011074, 32951280099, 53316291173, 86267571272, 139583862445, 225851433717, 365435296162, 591286729879, 956722026041, 1548008755920, 2504730781961, 4052739537881, 6557470319842, 10610209857723, 17167680177565, 27777890035288, 44945570212853, 72723460248141, 117669030460994, 190392490709135, 308061521170129, 498454011879264, 806515533049393, 1304969544928657, 2111485077978050, 3416454622906707, 5527939700884757, 8944394323791464, 14472334024676221, 23416728348467685, 37889062373143906, 61305790721611591, 99194853094755497, 160500643816367088, 259695496911122585, 420196140727489673, 679891637638612258, 1100087778366101931, 1779979416004714189, 2880067194370816120, 4660046610375530309, 7540113804746346429, 12200160415121876738, 19740274219868223167, 31940434634990099905, 51680708854858323072, 83621143489848422977, 135301852344706746049, 218922995834555169026\n"
          ]
        }
      ]
    }
  ]
}