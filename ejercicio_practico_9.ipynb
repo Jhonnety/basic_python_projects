{
  "nbformat": 4,
  "nbformat_minor": 0,
  "metadata": {
    "colab": {
      "provenance": [],
      "authorship_tag": "ABX9TyOsr24QpVRjra0kzB7OsQCe",
      "include_colab_link": true
    },
    "kernelspec": {
      "name": "python3",
      "display_name": "Python 3"
    },
    "language_info": {
      "name": "python"
    }
  },
  "cells": [
    {
      "cell_type": "markdown",
      "metadata": {
        "id": "view-in-github",
        "colab_type": "text"
      },
      "source": [
        "<a href=\"https://colab.research.google.com/github/Jhonnety/basic_python_projects/blob/main/ejercicio_practico_9.ipynb\" target=\"_parent\"><img src=\"https://colab.research.google.com/assets/colab-badge.svg\" alt=\"Open In Colab\"/></a>"
      ]
    },
    {
      "cell_type": "markdown",
      "source": [
        "# Ejercicio Practico 9\n",
        "Universidad Catolica Luis Amigo\n",
        "Curso Electivo de Programacion en Python\n",
        "Semestre 2023-02\n",
        "Enunciado\n",
        "Desarrollar un programa que solicite una frase desde el teclado, ası como un\n",
        "caracter en especıfico, ya sea una letra, un numero o caracter especial.\n",
        "Posteriormente, el programa debera imprimir en pantalla la frase ingresada\n",
        "desde el teclado, “sin vocales”, y en caso de que el caracter en especıfico sea\n",
        "parte de la frase, el bucle debera finalizar su ejecucion.\n",
        "Requerimientos indispensables:\n",
        "- Utilizar un ciclo o bucle, ya sea while o for.\n",
        "- Considerar que el usuario puede ingresar vocales en mayusculas y/o\n",
        "minusculas."
      ],
      "metadata": {
        "id": "VlekaeuO3Z5J"
      }
    },
    {
      "cell_type": "markdown",
      "source": [
        "Sin usar sets"
      ],
      "metadata": {
        "id": "-duw4DHA7F8v"
      }
    },
    {
      "cell_type": "code",
      "source": [
        "cadena = input(\"Ingrese su cadena de texto: \")\n",
        "caracter = input(\"Ingrese su caracter especifico: \")\n",
        "nueva_cadena =\"\"\n",
        "for x in cadena:\n",
        "  if(x == caracter):\n",
        "    break\n",
        "  if( x != \"a\" and x != \"A\" and x != \"e\" and x != \"E\" and x != \"i\" and x != \"I\" and x != \"o\" and x != \"O\" and x != \"u\" and x != \"U\"):\n",
        "    nueva_cadena += x\n",
        "print(nueva_cadena)"
      ],
      "metadata": {
        "colab": {
          "base_uri": "https://localhost:8080/"
        },
        "id": "rQwT4imi5wMF",
        "outputId": "a71ac827-1dd6-4237-bc33-c09c6e62779d"
      },
      "execution_count": 6,
      "outputs": [
        {
          "output_type": "stream",
          "name": "stdout",
          "text": [
            "Ingrese su cadena de texto: hola soy juan\n",
            "Ingrese su caracter especifico: j\n",
            "hl sy \n"
          ]
        }
      ]
    },
    {
      "cell_type": "markdown",
      "source": [
        "Con sets"
      ],
      "metadata": {
        "id": "I2PmWGC67OuF"
      }
    },
    {
      "cell_type": "code",
      "source": [
        "cadena = input(\"Ingrese su cadena de texto: \")\n",
        "caracter = input(\"Ingrese su caracter especifico: \")\n",
        "conjunto = {\"a\", \"A\", \"e\", \"E\", \"i\", \"I\", \"o\", \"O\", \"u\", \"U\"}\n",
        "nueva_cadena =\"\"\n",
        "for x in cadena:\n",
        "  if(x == caracter):\n",
        "    break\n",
        "  if( x not in conjunto):\n",
        "    nueva_cadena += x\n",
        "print(nueva_cadena)"
      ],
      "metadata": {
        "colab": {
          "base_uri": "https://localhost:8080/"
        },
        "id": "8sc4OcsU3g0f",
        "outputId": "6e2984e6-aafe-4bcc-9094-3085ad367d01"
      },
      "execution_count": 4,
      "outputs": [
        {
          "output_type": "stream",
          "name": "stdout",
          "text": [
            "Ingrese su cadena de texto: hola soy juan\n",
            "Ingrese su caracter especifico: j\n",
            "hl sy \n"
          ]
        }
      ]
    }
  ]
}