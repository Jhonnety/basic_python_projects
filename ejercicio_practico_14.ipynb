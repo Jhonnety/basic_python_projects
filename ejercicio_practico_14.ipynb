{
  "nbformat": 4,
  "nbformat_minor": 0,
  "metadata": {
    "colab": {
      "provenance": [],
      "authorship_tag": "ABX9TyOahcPq4G9Ndr1v92Ijockh",
      "include_colab_link": true
    },
    "kernelspec": {
      "name": "python3",
      "display_name": "Python 3"
    },
    "language_info": {
      "name": "python"
    }
  },
  "cells": [
    {
      "cell_type": "markdown",
      "metadata": {
        "id": "view-in-github",
        "colab_type": "text"
      },
      "source": [
        "<a href=\"https://colab.research.google.com/github/Jhonnety/basic_python_projects/blob/main/ejercicio_practico_14.ipynb\" target=\"_parent\"><img src=\"https://colab.research.google.com/assets/colab-badge.svg\" alt=\"Open In Colab\"/></a>"
      ]
    },
    {
      "cell_type": "markdown",
      "source": [
        "# Ejercicio Practico 14\n",
        "Universidad Catolica Luis Amigo\n",
        "Curso Electivo de Programacion en Python\n",
        "Semestre 2023-02\n",
        "\n",
        "Enunciado\n",
        "Desarrollar un programa que permita realizar la suma de matrices de manera\n",
        "automatizada, este programa, debera tener las siguientes caracterısticas:\n",
        "\n",
        "En primer lugar:\n",
        "\n",
        "- El programa debera solicitarle al usuario la cantidad de matrices que desea\n",
        "sumar, y a su vez, se debera validar que el usuario este intentando sumar dos\n",
        "o mas matrices.\n",
        "\n",
        "En segundo lugar:\n",
        "\n",
        "- El programa debera solicitar al usuario la cantidad de filas y columnas que\n",
        "tendran las matrices que se van a sumar.\n",
        "\n",
        "En tercer lugar:\n",
        "\n",
        "- El programa debera solicitar al usuario los elementos que contendra cada\n",
        "matriz generada, a traves de un mensaje en pantalla indicando la matriz actual, ası como la fila y columna donde se introducira dicho elemento.\n",
        "\n",
        "En cuarto lugar:\n",
        "\n",
        "- El programa debera realizar la suma de las matrices generadas por el usuario,\n",
        "y, a traves de una impresion en pantalla, mostrar todas las matrices incluyendo la matriz resultante en formato de matriz, mostrando las matrices\n",
        "horizontalmente e incluyendo los signos de suma e igual."
      ],
      "metadata": {
        "id": "Q1YRrNIdNYU0"
      }
    },
    {
      "cell_type": "code",
      "execution_count": 9,
      "metadata": {
        "colab": {
          "base_uri": "https://localhost:8080/"
        },
        "id": "JzFroRKhNXAn",
        "outputId": "1772cd11-7565-4ea2-9b9d-ed88124df9f0"
      },
      "outputs": [
        {
          "output_type": "stream",
          "name": "stdout",
          "text": [
            "Ingrese el número de matrices que desea sumar (min 2): 4\n",
            "Ingrese el número de filas para cada matriz: 2\n",
            "Ingrese el número de columnas para cada matriz: 2\n",
            "---------------Matriz 1--------------------\n",
            "Ingrese el valor de la Matriz: 1, en la fila: 1 y en la columna: 1: 1\n",
            "Ingrese el valor de la Matriz: 1, en la fila: 1 y en la columna: 2: 0\n",
            "Ingrese el valor de la Matriz: 1, en la fila: 2 y en la columna: 1: 0\n",
            "Ingrese el valor de la Matriz: 1, en la fila: 2 y en la columna: 2: 1\n",
            "---------------Matriz 2--------------------\n",
            "Ingrese el valor de la Matriz: 2, en la fila: 1 y en la columna: 1: 1\n",
            "Ingrese el valor de la Matriz: 2, en la fila: 1 y en la columna: 2: 2\n",
            "Ingrese el valor de la Matriz: 2, en la fila: 2 y en la columna: 1: 3\n",
            "Ingrese el valor de la Matriz: 2, en la fila: 2 y en la columna: 2: 4\n",
            "---------------Matriz 3--------------------\n",
            "Ingrese el valor de la Matriz: 3, en la fila: 1 y en la columna: 1: -1\n",
            "Ingrese el valor de la Matriz: 3, en la fila: 1 y en la columna: 2: -2\n",
            "Ingrese el valor de la Matriz: 3, en la fila: 2 y en la columna: 1: -4\n",
            "Ingrese el valor de la Matriz: 3, en la fila: 2 y en la columna: 2: -1\n",
            "---------------Matriz 4--------------------\n",
            "Ingrese el valor de la Matriz: 4, en la fila: 1 y en la columna: 1: 1\n",
            "Ingrese el valor de la Matriz: 4, en la fila: 1 y en la columna: 2: 1\n",
            "Ingrese el valor de la Matriz: 4, en la fila: 2 y en la columna: 1: 1\n",
            "Ingrese el valor de la Matriz: 4, en la fila: 2 y en la columna: 2: 1\n",
            "---------------Suma de las matrices--------------------\n",
            "[1, 0] + [1, 2] + [-1, -2] + [1, 1] = [2, 1]\n",
            "[0, 1]   [3, 4]   [-4, -1]   [1, 1]   [0, 5]   \n"
          ]
        }
      ],
      "source": [
        "matrices = 0\n",
        "matriz_suma =[]\n",
        "\n",
        "while matrices < 2:\n",
        "  matrices = int(input(\"Ingrese el número de matrices que desea sumar (min 2): \"))\n",
        "\n",
        "rows = int(input(\"Ingrese el número de filas para cada matriz: \"))\n",
        "columns = int(input(\"Ingrese el número de columnas para cada matriz: \"))\n",
        "\n",
        "matrices_lista =[]\n",
        "for matriz_index in range(matrices):\n",
        "  new_matriz = []\n",
        "  print(f\"---------------Matriz {matriz_index + 1}--------------------\")\n",
        "  for row_index in range(rows):\n",
        "    new_row = []\n",
        "    for column_index in range(columns):\n",
        "      new_row.append(int(input(f\"Ingrese el valor de la Matriz: {matriz_index + 1}, en la fila: {row_index + 1} y en la columna: {column_index + 1}: \")))\n",
        "    new_matriz.append(new_row)\n",
        "  matrices_lista.append(new_matriz)\n",
        "\n",
        "\n",
        "matriz_suma = []\n",
        "for row in range(rows):\n",
        "  new_row = []\n",
        "  for column in range(columns):\n",
        "    sum = 0\n",
        "    for matriz in matrices_lista:\n",
        "      sum += matriz[row][column]\n",
        "    new_row.append(sum)\n",
        "  matriz_suma.append(new_row)\n",
        "\n",
        "matrices_lista.append(matriz_suma)\n",
        "\n",
        "print(f\"---------------Suma de las matrices--------------------\")\n",
        "\n",
        "for row in range(rows):\n",
        "\n",
        "  fila = \"\"\n",
        "  for matriz in matrices_lista:\n",
        "    fila += str(matriz[row])\n",
        "    if( row == 0 ):\n",
        "      if( matriz == matrices_lista[-2] ):\n",
        "        fila +=\" = \"\n",
        "      elif( matriz == matrices_lista[-1] ):\n",
        "        fila += \"\"\n",
        "      else:\n",
        "        fila += \" + \"\n",
        "    else:\n",
        "      fila += \"   \"\n",
        "  print(fila)\n",
        "\n",
        "\n",
        "\n"
      ]
    }
  ]
}