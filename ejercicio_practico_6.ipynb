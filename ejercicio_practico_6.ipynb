{
  "nbformat": 4,
  "nbformat_minor": 0,
  "metadata": {
    "colab": {
      "provenance": [],
      "authorship_tag": "ABX9TyPSeDja7JDHza4tCIXgoFws",
      "include_colab_link": true
    },
    "kernelspec": {
      "name": "python3",
      "display_name": "Python 3"
    },
    "language_info": {
      "name": "python"
    }
  },
  "cells": [
    {
      "cell_type": "markdown",
      "metadata": {
        "id": "view-in-github",
        "colab_type": "text"
      },
      "source": [
        "<a href=\"https://colab.research.google.com/github/Jhonnety/basic_python_projects/blob/main/ejercicio_practico_6.ipynb\" target=\"_parent\"><img src=\"https://colab.research.google.com/assets/colab-badge.svg\" alt=\"Open In Colab\"/></a>"
      ]
    },
    {
      "cell_type": "markdown",
      "source": [
        "# Ejercicio Practico 6\n",
        "Universidad Catolica Luis Amigo\n",
        "Curso Electivo de Programacion en Python\n",
        "Semestre 2023-02\n",
        "Enunciado\n",
        "Desarrollar un programa que elimine una palabra que forma parte de una\n",
        "cadena de caracteres.\n",
        "Requerimientos indispensables:\n",
        "- La cadena de caracteres debera ser solicitada desde el teclado.\n",
        "- La palabra a eliminar debera ser solicitada desde el teclado."
      ],
      "metadata": {
        "id": "IfJCXz3BMW76"
      }
    },
    {
      "cell_type": "code",
      "source": [
        "cadena = input(\"Ingrese la cadena de texto: \")\n",
        "sub_cadena = input(\"Ingrese la subcadena a eliminar: \")\n",
        "print(f\"\\nLa cadena de texto que ingresaste fue: {cadena}\")\n",
        "cadena = cadena.replace(sub_cadena, '')\n",
        "print(f\"La cadena de texto sin la subcadena es: {cadena}\")"
      ],
      "metadata": {
        "colab": {
          "base_uri": "https://localhost:8080/"
        },
        "id": "zHlclwJ8MZpA",
        "outputId": "e196b3a2-c3c4-4b76-8291-83914e26482c"
      },
      "execution_count": 7,
      "outputs": [
        {
          "output_type": "stream",
          "name": "stdout",
          "text": [
            "Ingrese la cadena de texto: Hola! como estas el dia de hoy?, hoy es un dia muy soleado\n",
            "Ingrese la subcadena a eliminar: dia\n",
            "\n",
            "La cadena de texto que ingresaste fue: Hola! como estas el dia de hoy?, hoy es un dia muy soleado\n",
            "La cadena de texto sin la subcadena es: Hola! como estas el  de hoy?, hoy es un  muy soleado\n"
          ]
        }
      ]
    }
  ]
}