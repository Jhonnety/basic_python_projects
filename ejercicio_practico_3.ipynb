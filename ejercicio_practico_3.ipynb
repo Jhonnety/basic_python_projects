{
  "nbformat": 4,
  "nbformat_minor": 0,
  "metadata": {
    "colab": {
      "provenance": [],
      "authorship_tag": "ABX9TyOmQ2vOn9oaXgC/bW1AfpL4",
      "include_colab_link": true
    },
    "kernelspec": {
      "name": "python3",
      "display_name": "Python 3"
    },
    "language_info": {
      "name": "python"
    }
  },
  "cells": [
    {
      "cell_type": "markdown",
      "metadata": {
        "id": "view-in-github",
        "colab_type": "text"
      },
      "source": [
        "<a href=\"https://colab.research.google.com/github/Jhonnety/basic_python_projects/blob/main/ejercicio_practico_3.ipynb\" target=\"_parent\"><img src=\"https://colab.research.google.com/assets/colab-badge.svg\" alt=\"Open In Colab\"/></a>"
      ]
    },
    {
      "cell_type": "code",
      "execution_count": 5,
      "metadata": {
        "colab": {
          "base_uri": "https://localhost:8080/"
        },
        "id": "Uuy8ECKZ2TXF",
        "outputId": "ee51e6ec-7209-484b-af06-3334c9a812d6"
      },
      "outputs": [
        {
          "output_type": "stream",
          "name": "stdout",
          "text": [
            "Ingrese el primer numero: sd\n",
            "Se produjo un error, posiblemente ingreso algo diferente a números\n"
          ]
        }
      ],
      "source": [
        "try:\n",
        "  num_primero = int(input(\"Ingrese el primer numero: \"))\n",
        "  num_segundo = int(input(\"Ingrese el segundo numero: \"))\n",
        "  num_tercero = int(input(\"Ingrese el tercer numero: \"))\n",
        "  num_mayor = 0\n",
        "\n",
        "  if(num_primero >= num_segundo and num_primero >= num_tercero):\n",
        "    num_mayor = num_primero\n",
        "  elif(num_segundo >= num_primero and num_segundo >= num_tercero):\n",
        "    num_mayor = num_segundo\n",
        "  else:\n",
        "    num_mayor = num_tercero\n",
        "\n",
        "  print(f\"El número {num_mayor} es el más grande de los tres\")\n",
        "except:\n",
        "  print(\"Se produjo un error, posiblemente ingreso algo diferente a números\")\n"
      ]
    }
  ]
}