{
  "nbformat": 4,
  "nbformat_minor": 0,
  "metadata": {
    "colab": {
      "provenance": [],
      "authorship_tag": "ABX9TyOKHpfQxSgm9mrhmYoq8YJ+",
      "include_colab_link": true
    },
    "kernelspec": {
      "name": "python3",
      "display_name": "Python 3"
    },
    "language_info": {
      "name": "python"
    }
  },
  "cells": [
    {
      "cell_type": "markdown",
      "metadata": {
        "id": "view-in-github",
        "colab_type": "text"
      },
      "source": [
        "<a href=\"https://colab.research.google.com/github/Jhonnety/basic_python_projects/blob/main/ejercicio_practico_10.ipynb\" target=\"_parent\"><img src=\"https://colab.research.google.com/assets/colab-badge.svg\" alt=\"Open In Colab\"/></a>"
      ]
    },
    {
      "cell_type": "markdown",
      "source": [
        "# Ejercicio Practico 10\n",
        "Universidad Catolica Luis Amigo\n",
        "Curso Electivo de Programacion en Python\n",
        "Semestre 2023-02\n",
        "Enunciado\n",
        "Desarrollar un programa en Python, que solicite desde el teclado la longitud\n",
        "de una lista, que contendra unicamente elementos de tipo entero.\n",
        "De acuerdo a la longitud indicada, solicitar nuevamente desde el teclado, cada\n",
        "uno de los elementos que contendra la lista, e irlos introduciendo elemento a\n",
        "elemento dentro de la lista.\n",
        "Finalmente, mostrar en pantalla, la lista con los elementos que se solicitaron\n",
        "desde el teclado, y a su vez, la suma de todos los elementos que componen a\n",
        "la lista.\n"
      ],
      "metadata": {
        "id": "iBxTA9RQ72UF"
      }
    },
    {
      "cell_type": "code",
      "source": [
        "n = int(input(\"Ingrese la longitud de la lista: \"))\n",
        "lista = []\n",
        "for x in range(n):\n",
        "  lista.append(int(input(f\"Ingrese su elemento número {x + 1}: \")))\n",
        "print(lista)\n",
        "print(f\"La suma de los elementos de la lista es: {sum(lista)}\")"
      ],
      "metadata": {
        "id": "UoGhB-xm76sb",
        "colab": {
          "base_uri": "https://localhost:8080/"
        },
        "outputId": "7717b320-1a22-4cca-a3bd-dfbe1db5bb70"
      },
      "execution_count": 3,
      "outputs": [
        {
          "output_type": "stream",
          "name": "stdout",
          "text": [
            "Ingrese la longitud de la lista: 3\n",
            "Ingrese su elemento número 1: 27\n",
            "Ingrese su elemento número 2: 3\n",
            "Ingrese su elemento número 3: 0\n",
            "[27, 3, 0]\n",
            "La suma de los elementos de la lista es: 30\n"
          ]
        }
      ]
    }
  ]
}