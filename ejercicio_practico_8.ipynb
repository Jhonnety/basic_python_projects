{
  "nbformat": 4,
  "nbformat_minor": 0,
  "metadata": {
    "colab": {
      "provenance": [],
      "authorship_tag": "ABX9TyOLZezZZ4H1xIFqEo7PDzuU",
      "include_colab_link": true
    },
    "kernelspec": {
      "name": "python3",
      "display_name": "Python 3"
    },
    "language_info": {
      "name": "python"
    }
  },
  "cells": [
    {
      "cell_type": "markdown",
      "metadata": {
        "id": "view-in-github",
        "colab_type": "text"
      },
      "source": [
        "<a href=\"https://colab.research.google.com/github/Jhonnety/basic_python_projects/blob/main/ejercicio_practico_8.ipynb\" target=\"_parent\"><img src=\"https://colab.research.google.com/assets/colab-badge.svg\" alt=\"Open In Colab\"/></a>"
      ]
    },
    {
      "cell_type": "markdown",
      "source": [
        "# Ejercicio Practico 8\n",
        "\n",
        "Universidad Catolica Luis Amigo\n",
        "Curso Electivo de Programacion en Python\n",
        "Semestre 2023-02\n",
        "Enunciado\n",
        "Desarrollar un programa que muestre en pantalla, la tabla de multiplicar de\n",
        "un numero cualquiera, este numero debera ser solicitado e ingresado desde\n",
        "el teclado por el usuario..\n",
        "Requerimientos indispensables:\n",
        "- Utilizar el ciclo o bucle for.\n",
        "- La Tabla debe contener las multiplicaciones que van desde el 0 hasta\n",
        "el 10.\n"
      ],
      "metadata": {
        "id": "4Pbp-4ot1J9R"
      }
    },
    {
      "cell_type": "code",
      "source": [
        "n = int(input(\"Ingrese el número al cual quiere generar la tabla: \"))\n",
        "print(f\"\\nTabla del {n}:\")\n",
        "for i in range(0, 11):\n",
        "  print(f\"{n} x {i} = {n * i}\")"
      ],
      "metadata": {
        "colab": {
          "base_uri": "https://localhost:8080/"
        },
        "id": "R4hqf-JZ1PP9",
        "outputId": "99a08288-bdde-46ff-aeb6-c80b26eaab6c"
      },
      "execution_count": 3,
      "outputs": [
        {
          "output_type": "stream",
          "name": "stdout",
          "text": [
            "Ingrese el número al cual quiere generar la tabla: 8\n",
            "\n",
            "Tabla del 8:\n",
            "8 x 0 = 0\n",
            "8 x 1 = 8\n",
            "8 x 2 = 16\n",
            "8 x 3 = 24\n",
            "8 x 4 = 32\n",
            "8 x 5 = 40\n",
            "8 x 6 = 48\n",
            "8 x 7 = 56\n",
            "8 x 8 = 64\n",
            "8 x 9 = 72\n",
            "8 x 10 = 80\n"
          ]
        }
      ]
    }
  ]
}