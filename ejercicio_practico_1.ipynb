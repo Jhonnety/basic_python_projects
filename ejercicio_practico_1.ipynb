{
  "nbformat": 4,
  "nbformat_minor": 0,
  "metadata": {
    "colab": {
      "provenance": [],
      "authorship_tag": "ABX9TyMYEP5xCaeoGeAZCjG/B6VP",
      "include_colab_link": true
    },
    "kernelspec": {
      "name": "python3",
      "display_name": "Python 3"
    },
    "language_info": {
      "name": "python"
    }
  },
  "cells": [
    {
      "cell_type": "markdown",
      "metadata": {
        "id": "view-in-github",
        "colab_type": "text"
      },
      "source": [
        "<a href=\"https://colab.research.google.com/github/Jhonnety/basic_python_projects/blob/main/ejercicio_practico_1.ipynb\" target=\"_parent\"><img src=\"https://colab.research.google.com/assets/colab-badge.svg\" alt=\"Open In Colab\"/></a>"
      ]
    },
    {
      "cell_type": "code",
      "execution_count": null,
      "metadata": {
        "colab": {
          "base_uri": "https://localhost:8080/"
        },
        "id": "f6YIq41wyf8v",
        "outputId": "eab65c76-9b85-4970-dc3a-624d56d982de"
      },
      "outputs": [
        {
          "output_type": "stream",
          "name": "stdout",
          "text": [
            "Bienvenidos al sistema de la empresa de textiles xxx\n",
            "Por favor ingrese su nombre: Jhon Esteban Velasquez Gomez\n",
            "Por favor ingrese su clave del departamento(1, 2, 3): 2\n",
            "Por favor ingrese sus años de antiguedad: 5\n",
            "Señor/a Jhon Esteban Velasquez Gomez, usted tiene derecho a 15 dias de vaciones!\n"
          ]
        }
      ],
      "source": [
        "print(\"Bienvenidos al sistema de la empresa de textiles xxx\")\n",
        "nombre = input(\"Por favor ingrese su nombre: \")\n",
        "clave = input(\"Por favor ingrese su clave del departamento(1, 2, 3): \")\n",
        "antiguedad = int(input(\"Por favor ingrese sus años de antiguedad: \"))\n",
        "diasVaciones = 0\n",
        "if (clave == \"1\"):\n",
        "  if (antiguedad == 1):\n",
        "    diasVaciones = 6\n",
        "  elif (2 <= antiguedad <= 6):\n",
        "    diasVaciones = 14\n",
        "  else: #Mayor a 7 años\n",
        "    diasVaciones = 20\n",
        "elif(clave == \"2\"):\n",
        "    if (antiguedad == 1):\n",
        "      diasVaciones = 7\n",
        "    elif (2 <= antiguedad <= 6):\n",
        "      diasVaciones = 15\n",
        "    else: #Mayor a 7 años\n",
        "      diasVaciones = 22\n",
        "else: #Clave 3\n",
        "  if (antiguedad == 1):\n",
        "    diasVaciones = 10\n",
        "  elif (2 <= antiguedad <= 6):\n",
        "    diasVaciones = 20\n",
        "  else: #Mayor a 7 años\n",
        "    diasVaciones = 30\n",
        "print(f\"Señor/a {nombre}, usted tiene derecho a {diasVaciones} dias de vaciones!\")"
      ]
    }
  ]
}