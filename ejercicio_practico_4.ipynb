{
  "nbformat": 4,
  "nbformat_minor": 0,
  "metadata": {
    "colab": {
      "provenance": [],
      "authorship_tag": "ABX9TyMgjRmB3Blgn0EQdH1PnzkQ",
      "include_colab_link": true
    },
    "kernelspec": {
      "name": "python3",
      "display_name": "Python 3"
    },
    "language_info": {
      "name": "python"
    }
  },
  "cells": [
    {
      "cell_type": "markdown",
      "metadata": {
        "id": "view-in-github",
        "colab_type": "text"
      },
      "source": [
        "<a href=\"https://colab.research.google.com/github/Jhonnety/basic_python_projects/blob/main/ejercicio_practico_4.ipynb\" target=\"_parent\"><img src=\"https://colab.research.google.com/assets/colab-badge.svg\" alt=\"Open In Colab\"/></a>"
      ]
    },
    {
      "cell_type": "markdown",
      "source": [
        "Ejercicio Practico 4\n",
        "Universidad Catolica Luis Amigo\n",
        "Curso Electivo de Programacion en Python\n",
        "Semestre 2023-02\n",
        "Enunciado\n",
        "Desarrollar una calculadora con las siguientes caracterısticas:\n",
        "1. La calculadora debera ser capaz de calcular las operaciones de suma,\n",
        "resta, multiplicacion, division, division entera, exponente y modulo o\n",
        "resto.\n",
        "2. La calculadora debera tener un menu de opciones donde el usuario\n",
        "pueda elegir cual es la operacion que desea ejecutar.\n",
        "3. La calculadora debera solicitar unicamente dos valores por cada\n",
        "operacion.\n",
        "Requerimientos indispensables:\n",
        "El codigo de este programa debera funcionar con una unica variable que se\n",
        "llamara numero, es decir, no se permite la implementacion de otra variable."
      ],
      "metadata": {
        "id": "ygBTtu00APNP"
      }
    },
    {
      "cell_type": "code",
      "source": [
        "print(\"--------Calculadora--------\")\n",
        "numero = 0\n",
        "print(\"Ingrese 1 para sumar\\nIngrese 2 para restar\\nIngrese 3 para multiplicar\\nIngrese 4 para dividir\")\n",
        "print(\"Ingrese 5 para hacer una division entera\\nIngrese 6 para exponencial\\nIngrese 7 para modulor\")\n",
        "numero = int(input())"
      ],
      "metadata": {
        "colab": {
          "base_uri": "https://localhost:8080/"
        },
        "id": "yayeVdgTAP_H",
        "outputId": "1b7e6768-b293-4e75-f26b-d1285043df7e"
      },
      "execution_count": 27,
      "outputs": [
        {
          "name": "stdout",
          "output_type": "stream",
          "text": [
            "--------Calculadora--------\n",
            "Ingrese 1 para sumar\n",
            "Ingrese 2 para restar\n",
            "Ingrese 3 para multiplicar\n",
            "Ingrese 4 para dividir\n",
            "Ingrese 5 para hacer una division entera\n",
            "Ingrese 6 para exponencial\n",
            "Ingrese 7 para modulor\n",
            "6\n"
          ]
        }
      ]
    },
    {
      "cell_type": "code",
      "source": [
        "if numero == 1:\n",
        "  numero = int(input(\"Ingrese el primer número: \"))\n",
        "  numero += int(input(\"Ingrese el segundo número: \"))\n",
        "  print(f\"El resultado de la suma de los dos numero anteriores es: {numero}\")\n",
        "elif numero == 2:\n",
        "  numero = int(input(\"Ingrese el primer número: \"))\n",
        "  numero -= int(input(\"Ingrese el segundo número: \"))\n",
        "  print(f\"El resultado de la resta de los dos numero anteriores es: {numero}\")\n",
        "elif numero == 3:\n",
        "  numero = int(input(\"Ingrese el primer número: \"))\n",
        "  numero *= int(input(\"Ingrese el segundo número: \"))\n",
        "  print(f\"El resultado de la multiplicacion de los dos numero anteriores es: {numero}\")\n",
        "elif numero == 4:\n",
        "  numero = int(input(\"Ingrese el número: \"))\n",
        "  numero /= int(input(\"Ingrese el divisor: \"))\n",
        "  print(f\"El resultado de la division de los dos numero anteriores es: {numero}\")\n",
        "elif numero == 5:\n",
        "  numero = int(input(\"Ingrese el número: \"))\n",
        "  numero //= int(input(\"Ingrese el divisor: \"))\n",
        "  print(f\"El resultado de la division entera de los dos numero anteriores es: {numero}\")\n",
        "elif numero == 6:\n",
        "  numero = int(input(\"Ingrese el número: \"))\n",
        "  numero **= int(input(\"Ingrese la potencia: \"))\n",
        "  print(f\"El resultado de la exponencial con los dos numero anteriores es: {numero}\")\n",
        "elif numero == 7:\n",
        "  numero = int(input(\"Ingrese el primer número: \"))\n",
        "  numero %= int(input(\"Ingrese el segundo número: \"))\n",
        "  print(f\"El resultado del primer numero modulo el segundo numero es: {numero}\")"
      ],
      "metadata": {
        "colab": {
          "base_uri": "https://localhost:8080/"
        },
        "id": "i5Fe-ALk9t_n",
        "outputId": "7523cf1e-25bc-490b-8c1d-d55bb70966fb"
      },
      "execution_count": 28,
      "outputs": [
        {
          "output_type": "stream",
          "name": "stdout",
          "text": [
            "Ingrese el número: 5\n",
            "Ingrese la potencia: 3\n",
            "El resultado de la exponencial con los dos numero anteriores es: 125\n"
          ]
        }
      ]
    }
  ]
}