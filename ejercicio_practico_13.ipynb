{
  "nbformat": 4,
  "nbformat_minor": 0,
  "metadata": {
    "colab": {
      "provenance": [],
      "authorship_tag": "ABX9TyPTHXCaJqDehiS+BtO/ynXP",
      "include_colab_link": true
    },
    "kernelspec": {
      "name": "python3",
      "display_name": "Python 3"
    },
    "language_info": {
      "name": "python"
    }
  },
  "cells": [
    {
      "cell_type": "markdown",
      "metadata": {
        "id": "view-in-github",
        "colab_type": "text"
      },
      "source": [
        "<a href=\"https://colab.research.google.com/github/Jhonnety/basic_python_projects/blob/main/ejercicio_practico_13.ipynb\" target=\"_parent\"><img src=\"https://colab.research.google.com/assets/colab-badge.svg\" alt=\"Open In Colab\"/></a>"
      ]
    },
    {
      "cell_type": "markdown",
      "source": [
        "Ejercicio Practico 13\n",
        "Universidad Catolica Luis Amigo\n",
        "Curso Electivo de Programacion en Python\n",
        "Semestre 2023-02\n",
        "\n",
        "Enunciado\n",
        "Desarrollar un programa que genere una matriz con valores de tipo entero\n",
        "desde el teclado, de manera automatizada con las siguientes caracterısticas:\n",
        "\n",
        "En primer lugar:\n",
        "El usuario tendra que especificar, a traves del teclado, la cantidad de filas y\n",
        "columnas que tendra la matriz que desea generar.\n",
        "\n",
        "En segundo lugar:\n",
        "El programa debera pedir al usuario todos los valores que contendra la matriz, elemento a elemento.\n",
        "\n",
        "En tercer lugar:\n",
        "Cuando el programa termine su ejecucion, se debera mostrar en pantalla la\n",
        "matriz resultante en formato de matriz."
      ],
      "metadata": {
        "id": "LPFPiY0Pgz_c"
      }
    },
    {
      "cell_type": "code",
      "source": [
        "filas = int(input(\"Ingrese el número de filas: \"))\n",
        "columnas = int(input(\"Ingrese el número de columnas: \"))\n",
        "matrix = []\n",
        "\n",
        "for fila in range(filas):\n",
        "  fill_fila = []\n",
        "  for columna in range(columnas):\n",
        "    fill_fila.append(int(input(f\"Ingrese el valor de la fila {fila + 1} en la columna {columna + 1} : \")))\n",
        "  matrix.append(fill_fila)\n",
        "\n",
        "for fila in matrix:\n",
        "  print(fila)"
      ],
      "metadata": {
        "colab": {
          "base_uri": "https://localhost:8080/"
        },
        "id": "X4J95ED6g27R",
        "outputId": "5aa3c539-b700-4f53-d89e-1280234d4ebb"
      },
      "execution_count": 8,
      "outputs": [
        {
          "output_type": "stream",
          "name": "stdout",
          "text": [
            "Ingrese el número de filas: 2\n",
            "Ingrese el número de columnas: 3\n",
            "Ingrese el valor de la fila 1 en la columna 1 : 1\n",
            "Ingrese el valor de la fila 1 en la columna 2 : 2\n",
            "Ingrese el valor de la fila 1 en la columna 3 : 3\n",
            "Ingrese el valor de la fila 2 en la columna 1 : 4\n",
            "Ingrese el valor de la fila 2 en la columna 2 : 5\n",
            "Ingrese el valor de la fila 2 en la columna 3 : 6\n",
            "[1, 2, 3]\n",
            "[4, 5, 6]\n"
          ]
        }
      ]
    }
  ]
}